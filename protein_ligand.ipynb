{
 "cells": [
  {
   "cell_type": "markdown",
   "metadata": {},
   "source": [
    "## Protein-Ligand Analysis"
   ]
  },
  {
   "cell_type": "markdown",
   "metadata": {},
   "source": [
    "### Introduction"
   ]
  },
  {
   "cell_type": "markdown",
   "metadata": {},
   "source": [
    "This notebook contains scripts useful for the analysis and plotting of protein-ligand interactions.\n",
    "\n",
    "Author: Dr Afroditi-Maria Zaki\n",
    "\n",
    "SBCB, University of Oxford"
   ]
  },
  {
   "cell_type": "markdown",
   "metadata": {},
   "source": [
    "### Import required packages"
   ]
  },
  {
   "cell_type": "code",
   "execution_count": null,
   "metadata": {},
   "outputs": [],
   "source": [
    "import MDAnalysis as mda\n",
    "from MDAnalysis.analysis import contacts\n",
    "import numpy as np\n",
    "import matplotlib.pyplot as plt\n",
    "import pylab\n",
    "from matplotlib import ticker\n",
    "from matplotlib.ticker import MaxNLocator\n",
    "from collections import namedtuple\n",
    "from collections import Counter\n",
    "from numpy.linalg import norm\n",
    "print(\"All required packages are imported\")"
   ]
  },
  {
   "cell_type": "markdown",
   "metadata": {},
   "source": [
    "### Contact Analysis"
   ]
  },
  {
   "cell_type": "markdown",
   "metadata": {},
   "source": [
    "This script will go through each pair of atoms from two groups, it will calculate their separation and if it is within the cutoff distance, it will count it as a contact. It will then save the fraction of contacts formed vs time.\n",
    "\n",
    "It can be useful to monitor if a significant change of the binding of the ligand occurs.\n",
    "\n",
    "You need to provide the path of the input files, the .gro and .xtc (or .trr) files, the group selections (e.g. protein and ligand) and the cutoff."
   ]
  },
  {
   "cell_type": "markdown",
   "metadata": {},
   "source": [
    "### User defined input parameters"
   ]
  },
  {
   "cell_type": "code",
   "execution_count": 6,
   "metadata": {},
   "outputs": [
    {
     "name": "stdout",
     "output_type": "stream",
     "text": [
      "Input parameters are defined\n"
     ]
    }
   ],
   "source": [
    "#Replace with the path to your directory, the name of your .gro and your .xtc (or .trr) files\n",
    "path = \"/home/mjkikaz2/Documents/WORK/Mycolactone/MUTATIONS/WITH_MYC/S71F\"\n",
    "grofile = \"confout.gro\"\n",
    "trjfile = \"traj_fit.xtc\"\n",
    "#Give selections of two groups between which the native contacts will be computed\n",
    "sel_ligand = \"resname LIGANDRESNAME\"    #or e.g. resid 301-400\n",
    "sel_protein = \"protein\"   #or e.g. \"resid 1-300\"\n",
    "#A contact is considered to exist when the distance between two particles is within the cutoff value (in A)\n",
    "cutoff = 4.5\n",
    "print(\"Input parameters are defined\")"
   ]
  },
  {
   "cell_type": "code",
   "execution_count": null,
   "metadata": {},
   "outputs": [],
   "source": [
    "\"\"\"\"\"\"\"\"\"\"\"\"\"\"\"\"\"\"\"\"\"\"\"\"\"\"\"\"\"\"\"\"\"\n",
    " Calculation of native contacts\n",
    "\"\"\"\"\"\"\"\"\"\"\"\"\"\"\"\"\"\"\"\"\"\"\"\"\"\"\"\"\"\"\"\"\"\n",
    "\n",
    "#Define the Universe - No need to change any of the following lines\n",
    "u = mda.Universe(f\"{path}/{grofile}\", f\"{path}/{trjfile}\") \n",
    "ligand = u.select_atoms(sel_ligand)\n",
    "protein = u.select_atoms(sel_protein)\n",
    "results = contacts.Contacts(u, selection = (sel_ligand, sel_protein),\n",
    "                        refgroup = (ligand, protein), radius = cutoff)\n",
    "\n",
    "#Iterate through trajectory and perform analysis of \"native contacts\" Q\n",
    "#You may want to change the step\n",
    "results.run(step = 10)  \n",
    "#Print results - you can comment this out\n",
    "print(\"Time [ps]  Fraction of contacts\\n\", results.timeseries)    \n",
    "\n",
    "#Print number of averave contacts\n",
    "average_contacts = np.mean(results.timeseries[:, 1])\n",
    "print(f'The average fraction of native contacts is {average_contacts}')\n",
    "\n",
    "\"\"\"\"\"\"\"\"\"\"\"\"\"\"\"\"\"\"\"\"\"\"\"\"\"\"\"\"\"\"\"\"\"\n",
    "  Plot native contacts vs time\n",
    "\"\"\"\"\"\"\"\"\"\"\"\"\"\"\"\"\"\"\"\"\"\"\"\"\"\"\"\"\"\"\"\"\"\n",
    "\n",
    "#Plot time series q(t)\n",
    "\n",
    "#You can change the dimensions of the figure or leave this blank to use the default ones\n",
    "\n",
    "fig, ax = plt.subplots(figsize=(6, 4))    \n",
    "ax.plot(results.timeseries[:, 0], results.timeseries[:, 1], color='darkred', linewidth=1.5)\n",
    "#Change the legend\n",
    "leg = [\"YourLegend\"]                        \n",
    "xmin, xmax = ax.get_xlim()\n",
    "ymin, ymax = ax.get_ylim()\n",
    "xmin, xmax, ymin, ymax = xmin, xmax, ymin, 0.5    #You can change the limits of the  axes\n",
    "ax.set_xlim = (xmin, xmax)\n",
    "ax.set_xlabel(\"Frame\", fontsize=15)\n",
    "ax.set_ylim(ymin, ymax)\n",
    "ax.set_ylabel(\"Fraction of native contacts\", fontsize=15)\n",
    "ax.legend(leg,  loc=1, fancybox=True, shadow=True, fontsize=15)\n",
    "plt.tick_params(axis='both', bottom=True, top=True, right=True, left=True, which='major', labelbottom=True, labeltop=False, direction='in', labelsize=14, labelrotation=0)\n",
    "plt.tight_layout()\n",
    "\n",
    "#Save figure in the same path in .png format\n",
    "plt.savefig(f'{path}/native_contacts.png', bbox_inches='tight', dpi=600)\n",
    "plt.show()"
   ]
  },
  {
   "cell_type": "markdown",
   "metadata": {},
   "source": [
    "### Protein-Ligand contacts"
   ]
  },
  {
   "cell_type": "markdown",
   "metadata": {},
   "source": [
    "This script will go through each pair of atoms from two groups (e.g. protein and ligand), and if they form a contact, it will add the resids of the protein that are involved in the contact in a list.\n",
    "\n",
    "You need to provide the path of the input files, the .gro and .xtc (or .trr) files, the group selections (e.g. protein and ligand) and the cutoff.\n",
    "\n",
    "This code is quite slow, so either select a large step for the trajetory iteration or select part of the protein that you know is likely to be involved in the ligand binding."
   ]
  },
  {
   "cell_type": "code",
   "execution_count": null,
   "metadata": {},
   "outputs": [],
   "source": [
    "\"\"\"\"\"\"\"\"\"\"\"\"\"\"\"\"\"\"\"\"\"\"\"\"\"\"\"\"\"\n",
    "     Distance function\n",
    "\"\"\"\"\"\"\"\"\"\"\"\"\"\"\"\"\"\"\"\"\"\"\"\"\"\"\"\"\"\n",
    "\n",
    "#Function that calculates the distance between a pair of particles\n",
    "def distance(i, j):\n",
    "    d=norm(i.position-j.position)\n",
    "    return d, i.resid, j.resid         #returns the distance and the resid the atoms belong to.\n",
    "  \n",
    "\"\"\"\"\"\"\"\"\"\"\"\"\"\"\"\"\"\"\"\"\"\"\"\"\"\"\"\"\"\"\"\"\"\"\"\"\"\"\"\n",
    "Calculation of protein-ligand contacts\n",
    "\"\"\"\"\"\"\"\"\"\"\"\"\"\"\"\"\"\"\"\"\"\"\"\"\"\"\"\"\"\"\"\"\"\"\"\"\"\"\"\n",
    "\n",
    "#Define the Universe - No need to change any of the following lines\n",
    "u = mda.Universe(f\"{path}/{grofile}\", f\"{path}/{trjfile}\") \n",
    "ligand = u.select_atoms(sel_ligand)\n",
    "protein = u.select_atoms(sel_protein)\n",
    "\n",
    "#You can change the slice of the trajectory or the step\n",
    "#The code is quite slow, so be cautious if you want to use a smaller step\n",
    "start, stop, step = 0, u.trajectory.n_frames, 20         \n",
    "\n",
    "contact_list=[]\n",
    "for ts in u.trajectory[start:stop:step]:                          #Iterate trajectory frames\n",
    "    for atom1 in protein:                                         #Go through every possible protein-ligand atom pair\n",
    "        for atom2 in ligand:\n",
    "            if distance(atom1, atom2)[0] <= cutoff: #Use distance function and keep only the distances within the cutoff\n",
    "                print(\"Resid\",distance(atom1, atom2)[1], \"Distance =\",distance(atom1, atom2)[0], \"A\")\n",
    "                contact_list.append((distance(atom1, atom2)[1]))\n",
    "    print(\"Time\", ts.time/1000, \"ns\")  \n",
    "    \n",
    "#Count and print how many times a residue formed a contact with the ligand\n",
    "count=Counter(np.array(contact_list))\n",
    "for x, y in count.items():\n",
    "    print(\"Resid\", x, \"Occurances\", y)\n",
    "\n",
    "#Sort residues in ascending order\n",
    "residues=np.sort(list(count.keys()))    \n",
    "\n",
    "#Save contact residues in text file in same directory\n",
    "np.savetxt(f\"{path}/contacts.txt\", residues, fmt='%s', delimiter='   ', newline='\\n', header=' List of residues that form a contact with the ligand during the simulation', footer='', comments='#', encoding=None)"
   ]
  },
  {
   "cell_type": "markdown",
   "metadata": {},
   "source": [
    "### Ligand-Contacts minimum distances vs time"
   ]
  },
  {
   "cell_type": "markdown",
   "metadata": {},
   "source": [
    "This script reads the list of residues that was generated previously and calculates the minimum distances between the ligand and each of the residues vs time.\n",
    "\n",
    "The minimum distances per residue are saved in a separate .txt file.\n",
    "\n",
    "A plot is also generated and saved in .png format of all the minimum distances vs time."
   ]
  },
  {
   "cell_type": "code",
   "execution_count": null,
   "metadata": {},
   "outputs": [],
   "source": [
    "\"\"\"\"\"\"\"\"\"\"\"\"\"\"\"\"\"\"\"\"\"\"\"\"\"\"\"\"\"\"\"\"\"\"\"\"\"\"\"\"\"\"\"\"\"\"\"\"\"\"\"\n",
    "Calculate the minimum distances per residue vs time\n",
    "\"\"\"\"\"\"\"\"\"\"\"\"\"\"\"\"\"\"\"\"\"\"\"\"\"\"\"\"\"\"\"\"\"\"\"\"\"\"\"\"\"\"\"\"\"\"\"\"\"\"\"\n",
    "\n",
    "u = mda.Universe(f\"{path}/{grofile}\", f\"{path}/{trjfile}\") \n",
    "#You can change the slice of the trajectory or the step\n",
    "start, stop, step = 0, u.trajectory.n_frames, 20\n",
    "ligand = u.select_atoms(sel_ligand)\n",
    "protein = u.select_atoms(sel_protein)\n",
    "residues=np.loadtxt(f\"{path}/contacts.txt\", dtype='int', comments=(\"#\", \"@\"))\n",
    "\n",
    "for residue in residues:\n",
    "    mindist_residue=[]\n",
    "    res=u.select_atoms(f\"resid {residue}\")\n",
    "    print(\"\\nResid\", str(res.residues.resids),\"\\n\")\n",
    "    for ts in u.trajectory[start:stop:step]:\n",
    "        distances=[]\n",
    "        for atom1 in res:\n",
    "            for atom2 in ligand:\n",
    "                distances.append((norm(atom1.position-atom2.position)))\n",
    "        dist_array=np.array(distances)\n",
    "        mindist_residue.append((ts.time, np.sort(dist_array)[0]))\n",
    "        print(\"Time [ns]  Minimum Distance [A]\")\n",
    "        print(ts.time/1000, np.sort(dist_array)[0])\n",
    "    np.savetxt(f\"{path}/{residue}.txt\", mindist_residue, delimiter='   ', newline='\\n', header=f'Residue {residue} - Ligand Minimum distance\\n Time [ns]        Minimum distance [A]', footer='', comments='@', encoding=None)"
   ]
  },
  {
   "cell_type": "code",
   "execution_count": null,
   "metadata": {},
   "outputs": [],
   "source": [
    "\"\"\"\"\"\"\"\"\"\"\"\"\"\"\"\"\"\"\"\"\"\n",
    "   Read data files\n",
    "\"\"\"\"\"\"\"\"\"\"\"\"\"\"\"\"\"\"\"\"\"\n",
    "\n",
    "residues=np.loadtxt(f\"{path}/contacts.txt\", dtype='int', comments=(\"#\", \"@\"))\n",
    "#Read minimum distances per residue and vertically stack data in array called 'allmindist'\n",
    "ylabels=[]\n",
    "allmindist=np.empty([1, 2])\n",
    "for residue in residues:\n",
    "    res=u.select_atoms(f\"resid {residue}\")\n",
    "    ylabels.append((str(res.residues.resnames[0])+str(residue)))\n",
    "    mindist=np.loadtxt(f\"{path}/{residue}.txt\", comments=(\"#\", \"@\"))                     \n",
    "    allmindist=np.vstack((allmindist, mindist))\n",
    "allmindist=np.delete(allmindist, (0), axis=0)\n",
    "\n",
    "\"\"\"\"\"\"\"\"\"\"\"\"\"\"\"\"\"\"\"\"\"\"\"\"\"\"\"\"\"\"\"\"\"\"\"\"\"\"\"\"\"\"\"\"\"\n",
    "  Plot minimum distance per residue vs time\n",
    "\"\"\"\"\"\"\"\"\"\"\"\"\"\"\"\"\"\"\"\"\"\"\"\"\"\"\"\"\"\"\"\"\"\"\"\"\"\"\"\"\"\"\"\"\"\n",
    "\n",
    "#Plot data in barcode subplot\n",
    "fig, ax=plt.subplots(figsize=(8, len(residues)/5))\n",
    "nbins=6\n",
    "n_segs=len(residues)\n",
    "vmin=1.0\n",
    "vmax=7.0\n",
    "pylab.title(\"Minimum Distances\", fontsize=15)\n",
    "n_steps=allmindist.shape[0]/len(residues)\n",
    "pylab.pcolormesh(np.array_split(allmindist[:,1], n_segs), cmap='bwr_r', vmin=vmin, vmax=vmax)\n",
    "cbar = pylab.colorbar()\n",
    "tick_locator=ticker.MaxNLocator(nbins=nbins)\n",
    "cbar.locator=tick_locator\n",
    "cbar.update_ticks()\n",
    "cbar.set_label(\"Minimum Distance [$\\AA$]\", fontsize=15)\n",
    "cbar.ax.get_yaxis().labelpad = 15\n",
    "cbar.ax.tick_params(labelsize=15) \n",
    "pylab.xticks(np.arange(0,n_steps+1, n_steps/10), np.arange(0,101,10), fontsize=13)\n",
    "pylab.yticks(np.arange(n_segs)+0.5, (ylabels), fontsize=13)\n",
    "pylab.xlabel(\"Time [ns]\", fontsize=15)\n",
    "plt.tight_layout()\n",
    "pylab.savefig(f\"{path}/AllMinimumDistancesNew.png\", bbox_inches='tight', dpi=600)\n",
    "pylab.show()"
   ]
  },
  {
   "cell_type": "markdown",
   "metadata": {},
   "source": [
    "### Contact Lifetime"
   ]
  },
  {
   "cell_type": "markdown",
   "metadata": {},
   "source": [
    "This script computes the percentage of contact lifetime per residue and saves in a .txt file. \n",
    "I also generates and saves in .png format a barcode plot."
   ]
  },
  {
   "cell_type": "code",
   "execution_count": null,
   "metadata": {},
   "outputs": [],
   "source": [
    "\"\"\"\"\"\"\"\"\"\"\"\"\"\"\"\"\"\"\"\"\"\"\"\"\"\"\"\"\"\"\"\"\"\"\"\"\"\"\"\"\"\"\"\"\"\"\"\"\"\"\"\"\"\n",
    "   Calculate the % of contact lifetime per residue\n",
    "\"\"\"\"\"\"\"\"\"\"\"\"\"\"\"\"\"\"\"\"\"\"\"\"\"\"\"\"\"\"\"\"\"\"\"\"\"\"\"\"\"\"\"\"\"\"\"\"\"\"\"\"\"\n",
    "\n",
    "#Read list of contact residues that was generated previously\n",
    "residues=np.loadtxt(f\"{path}/contacts.txt\", dtype='int', comments=(\"#\", \"@\"))\n",
    "print(\"List of resids that form a contact with the ligand:\\n\", residues.T)\n",
    "lifetime_list=[]\n",
    "print(\"\\nResid\", \"Lifetime [%]\")\n",
    "for residue in residues:\n",
    "    count=0\n",
    "    mindist=np.loadtxt(f\"{path}/{residue}.txt\", comments=(\"#\", \"@\"), usecols=(1))\n",
    "    total=mindist.shape[0]\n",
    "    for item in mindist:\n",
    "        if item<=cutoff:\n",
    "            count+=1\n",
    "    lifetime=round((count/total)*100, 2)\n",
    "    print(residue, lifetime)\n",
    "    lifetime_list.append((residue, lifetime))\n",
    "np.savetxt(f\"{path}/contact_lifetime.txt\", lifetime_list, fmt=('%i','%.2f'), delimiter='   ', newline='\\n', header='Residue           Contact Lifetime', footer='', comments='@', encoding=None)\n",
    "    "
   ]
  },
  {
   "cell_type": "code",
   "execution_count": null,
   "metadata": {},
   "outputs": [],
   "source": [
    "\"\"\"\"\"\"\"\"\"\"\"\"\"\"\"\"\"\"\"\"\"\"\"\"\"\"\"\n",
    "   Plot contact lifetime\n",
    "\"\"\"\"\"\"\"\"\"\"\"\"\"\"\"\"\"\"\"\"\"\"\"\"\"\"\"\n",
    "\n",
    "# Read data from files\n",
    "residues=np.loadtxt(f\"{path}/contact_lifetime.txt\", comments=(\"#\", \"@\"), usecols=(0))\n",
    "lifetime_list=np.loadtxt(f\"{path}/contact_lifetime.txt\", comments=(\"#\", \"@\"), usecols=(1))\n",
    "\n",
    "fig, ax1 = plt.subplots(figsize=(12,3))\n",
    "\n",
    "#Figure parameters\n",
    "bar_width = 0.5\n",
    "opacity = 1.0\n",
    "n_groups = residues.shape[0]\n",
    "index = np.arange(n_groups)\n",
    "leg = [\"YourLegend\"]                        #Change the legend\n",
    "xticklabels=[]\n",
    "for residue in residues:\n",
    "    res=u.select_atoms(f\"resid {int(residue)}\")\n",
    "    xticklabels.append((str(res.residues.resnames[0])+str(int(residue))))\n",
    "    \n",
    "ax1.bar(index, lifetime_list, width=bar_width, alpha=opacity, color='cornflowerblue', edgecolor='mediumblue', linewidth=2.0, align='center', capsize=4.0, fill=True)\n",
    "ax1.set_xlim([-0.5, n_groups-0.5])\n",
    "ax1.set_ylim([0.0, 100.0])\n",
    "ax1.set_xlabel('Residue', fontsize=15)\n",
    "ax1.set_ylabel('Contact Lifetime [%]', fontsize=15)\n",
    "ax1.set_xticks(index)\n",
    "ax1.set_yticks([0.0, 25.0, 50.0, 75.0, 100.0])\n",
    "ax1.set_xticklabels(xticklabels)\n",
    "ax1.legend(leg, loc=1, fancybox=True, shadow=True)\n",
    "plt.tick_params(axis='x', bottom=True, top=True, which='major', labelbottom=True, labeltop=False, direction='in', labelsize=12, labelrotation=35)\n",
    "plt.tick_params(axis='y', right=True, left=True, which='major', labelleft=True, labelright=False, direction='in', labelsize=14)\n",
    "fig.tight_layout()\n",
    "\n",
    "plt.savefig(f\"{path}/contact_lifetime.png\", bbox_inches='tight', dpi=600)\n",
    "plt.show()"
   ]
  }
 ],
 "metadata": {
  "kernelspec": {
   "display_name": "Python 3",
   "language": "python",
   "name": "python3"
  },
  "language_info": {
   "codemirror_mode": {
    "name": "ipython",
    "version": 3
   },
   "file_extension": ".py",
   "mimetype": "text/x-python",
   "name": "python",
   "nbconvert_exporter": "python",
   "pygments_lexer": "ipython3",
   "version": "3.7.3"
  }
 },
 "nbformat": 4,
 "nbformat_minor": 2
}
